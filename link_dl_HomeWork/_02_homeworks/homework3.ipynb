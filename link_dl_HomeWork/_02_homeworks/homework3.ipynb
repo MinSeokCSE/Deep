{
 "cells": [
  {
   "cell_type": "code",
   "execution_count": 1,
   "id": "f6bfd042",
   "metadata": {},
   "outputs": [],
   "source": [
    "import os\n",
    "import numpy as np\n",
    "import torch\n",
    "from torch import nn, optim\n",
    "from torch.utils.data import DataLoader, random_split\n",
    "from torchvision import datasets, transforms\n",
    "import wandb\n",
    "import matplotlib.pyplot as plt\n",
    "from torchinfo import summary\n",
    "from datetime import datetime"
   ]
  },
  {
   "cell_type": "code",
   "execution_count": 2,
   "id": "bde5d3ae",
   "metadata": {},
   "outputs": [
    {
     "name": "stderr",
     "output_type": "stream",
     "text": [
      "\u001b[34m\u001b[1mwandb\u001b[0m: Using wandb-core as the SDK backend.  Please refer to https://wandb.me/wandb-core for more information.\n",
      "\u001b[34m\u001b[1mwandb\u001b[0m: Currently logged in as: \u001b[33malstjr7141\u001b[0m (\u001b[33malstjr7141-korea-university-of-technology-and-education\u001b[0m). Use \u001b[1m`wandb login --relogin`\u001b[0m to force relogin\n"
     ]
    },
    {
     "data": {
      "text/html": [
       "Tracking run with wandb version 0.18.7"
      ],
      "text/plain": [
       "<IPython.core.display.HTML object>"
      ]
     },
     "metadata": {},
     "output_type": "display_data"
    },
    {
     "data": {
      "text/html": [
       "Run data is saved locally in <code>/home/work/Deep/wandb/run-20241122_201719-93fmxozz</code>"
      ],
      "text/plain": [
       "<IPython.core.display.HTML object>"
      ]
     },
     "metadata": {},
     "output_type": "display_data"
    },
    {
     "data": {
      "text/html": [
       "Syncing run <strong><a href='https://wandb.ai/alstjr7141-korea-university-of-technology-and-education/fashion-mnist-homework/runs/93fmxozz' target=\"_blank\">devout-lion-29</a></strong> to <a href='https://wandb.ai/alstjr7141-korea-university-of-technology-and-education/fashion-mnist-homework' target=\"_blank\">Weights & Biases</a> (<a href='https://wandb.me/developer-guide' target=\"_blank\">docs</a>)<br/>"
      ],
      "text/plain": [
       "<IPython.core.display.HTML object>"
      ]
     },
     "metadata": {},
     "output_type": "display_data"
    },
    {
     "data": {
      "text/html": [
       " View project at <a href='https://wandb.ai/alstjr7141-korea-university-of-technology-and-education/fashion-mnist-homework' target=\"_blank\">https://wandb.ai/alstjr7141-korea-university-of-technology-and-education/fashion-mnist-homework</a>"
      ],
      "text/plain": [
       "<IPython.core.display.HTML object>"
      ]
     },
     "metadata": {},
     "output_type": "display_data"
    },
    {
     "data": {
      "text/html": [
       " View run at <a href='https://wandb.ai/alstjr7141-korea-university-of-technology-and-education/fashion-mnist-homework/runs/93fmxozz' target=\"_blank\">https://wandb.ai/alstjr7141-korea-university-of-technology-and-education/fashion-mnist-homework/runs/93fmxozz</a>"
      ],
      "text/plain": [
       "<IPython.core.display.HTML object>"
      ]
     },
     "metadata": {},
     "output_type": "display_data"
    }
   ],
   "source": [
    "# 데이터 경로 설정\n",
    "data_path = os.path.join(os.getcwd(), \"_00_data\", \"fashion_mnist\")\n",
    "\n",
    "# Wandb 초기화\n",
    "wandb.init(project=\"fashion-mnist-homework\", config={\"batch_size\": 256, \"learning_rate\": 0.001, \"epochs\": 100})\n",
    "config = wandb.config"
   ]
  },
  {
   "cell_type": "code",
   "execution_count": 3,
   "id": "8fbfb45f",
   "metadata": {},
   "outputs": [
    {
     "name": "stdout",
     "output_type": "stream",
     "text": [
      "Calculated Mean: 0.28604060411453247, Std: 0.3530242443084717\n"
     ]
    }
   ],
   "source": [
    "# 문제 1\n",
    "# 평균(mean)과 표준편차(std)를 계산하는 함수\n",
    "def calculate_mean_std(dataset):\n",
    "    loader = DataLoader(dataset, batch_size=len(dataset))  # 전체 데이터를 로드\n",
    "    data = next(iter(loader))[0]  # 첫 번째 배치에서 데이터 추출\n",
    "    mean = data.mean().item()  # 평균 계산\n",
    "    std = data.std().item()  # 표준편차 계산\n",
    "    return mean, std\n",
    "\n",
    "# Fashion MNIST 데이터 로드 및 평균, 표준편차 계산\n",
    "transform = transforms.ToTensor()  # 텐서 변환\n",
    "f_mnist_train = datasets.FashionMNIST(data_path, train=True, download=True, transform=transform)  # 학습 데이터 로드\n",
    "f_mnist_mean, f_mnist_std = calculate_mean_std(f_mnist_train)  # 평균, 표준편차 계산\n",
    "print(f\"Calculated Mean: {f_mnist_mean}, Std: {f_mnist_std}\")  # 결과 출력\n",
    "\n",
    "# 데이터 변환 설정 (정규화 및 데이터 증강 추가)\n",
    "transform = transforms.Compose([\n",
    "    transforms.RandomHorizontalFlip(),  # 랜덤 가로 뒤집기\n",
    "    transforms.RandomRotation(10),  # 랜덤 회전 (10도 이내)\n",
    "    transforms.ToTensor(),  # 텐서 변환\n",
    "    transforms.Normalize(mean=f_mnist_mean, std=f_mnist_std),  # 정규화\n",
    "])\n",
    "\n",
    "# 데이터셋 분할\n",
    "f_mnist_train = datasets.FashionMNIST(data_path, train=True, download=False, transform=transform)  # 학습 데이터 로드\n",
    "f_mnist_train, f_mnist_validation = random_split(f_mnist_train, [55_000, 5_000])  # 학습/검증 데이터 분할\n",
    "f_mnist_test = datasets.FashionMNIST(data_path, train=False, download=False, transform=transforms.Compose([\n",
    "    transforms.ToTensor(),  # 텐서 변환\n",
    "    transforms.Normalize(mean=f_mnist_mean, std=f_mnist_std),  # 정규화\n",
    "]))\n",
    "\n",
    "# DataLoader 생성\n",
    "train_loader = DataLoader(f_mnist_train, batch_size=config.batch_size, shuffle=True)  # 학습 데이터 로더\n",
    "validation_loader = DataLoader(f_mnist_validation, batch_size=config.batch_size)  # 검증 데이터 로더\n",
    "test_loader = DataLoader(f_mnist_test, batch_size=config.batch_size)  # 테스트 데이터 로더"
   ]
  },
  {
   "cell_type": "code",
   "execution_count": 4,
   "id": "8a2944b0",
   "metadata": {},
   "outputs": [
    {
     "name": "stdout",
     "output_type": "stream",
     "text": [
      "Using device: cuda\n",
      "==========================================================================================\n",
      "Layer (type:depth-idx)                   Output Shape              Param #\n",
      "==========================================================================================\n",
      "CNN                                      [256, 10]                 --\n",
      "├─Sequential: 1-1                        [256, 128, 3, 3]          --\n",
      "│    └─Conv2d: 2-1                       [256, 32, 28, 28]         320\n",
      "│    └─ReLU: 2-2                         [256, 32, 28, 28]         --\n",
      "│    └─BatchNorm2d: 2-3                  [256, 32, 28, 28]         64\n",
      "│    └─MaxPool2d: 2-4                    [256, 32, 14, 14]         --\n",
      "│    └─Dropout: 2-5                      [256, 32, 14, 14]         --\n",
      "│    └─Conv2d: 2-6                       [256, 64, 14, 14]         18,496\n",
      "│    └─ReLU: 2-7                         [256, 64, 14, 14]         --\n",
      "│    └─BatchNorm2d: 2-8                  [256, 64, 14, 14]         128\n",
      "│    └─Conv2d: 2-9                       [256, 64, 14, 14]         4,160\n",
      "│    └─ReLU: 2-10                        [256, 64, 14, 14]         --\n",
      "│    └─BatchNorm2d: 2-11                 [256, 64, 14, 14]         128\n",
      "│    └─MaxPool2d: 2-12                   [256, 64, 7, 7]           --\n",
      "│    └─Dropout: 2-13                     [256, 64, 7, 7]           --\n",
      "│    └─Conv2d: 2-14                      [256, 128, 7, 7]          73,856\n",
      "│    └─ReLU: 2-15                        [256, 128, 7, 7]          --\n",
      "│    └─BatchNorm2d: 2-16                 [256, 128, 7, 7]          256\n",
      "│    └─Conv2d: 2-17                      [256, 128, 7, 7]          16,512\n",
      "│    └─ReLU: 2-18                        [256, 128, 7, 7]          --\n",
      "│    └─BatchNorm2d: 2-19                 [256, 128, 7, 7]          256\n",
      "│    └─MaxPool2d: 2-20                   [256, 128, 3, 3]          --\n",
      "│    └─Dropout: 2-21                     [256, 128, 3, 3]          --\n",
      "├─Sequential: 1-2                        [256, 10]                 --\n",
      "│    └─Flatten: 2-22                     [256, 1152]               --\n",
      "│    └─Linear: 2-23                      [256, 256]                295,168\n",
      "│    └─ReLU: 2-24                        [256, 256]                --\n",
      "│    └─BatchNorm1d: 2-25                 [256, 256]                512\n",
      "│    └─Dropout: 2-26                     [256, 256]                --\n",
      "│    └─Linear: 2-27                      [256, 10]                 2,570\n",
      "==========================================================================================\n",
      "Total params: 412,426\n",
      "Trainable params: 412,426\n",
      "Non-trainable params: 0\n",
      "Total mult-adds (G): 2.41\n",
      "==========================================================================================\n",
      "Input size (MB): 0.80\n",
      "Forward/backward pass size (MB): 257.97\n",
      "Params size (MB): 1.65\n",
      "Estimated Total Size (MB): 260.42\n",
      "==========================================================================================\n"
     ]
    }
   ],
   "source": [
    "# 문제 2\n",
    "# CNN 모델 정의\n",
    "class CNN(nn.Module):\n",
    "    def __init__(self):\n",
    "        super(CNN, self).__init__()\n",
    "        self.conv_layers = nn.Sequential(\n",
    "            nn.Conv2d(1, 32, kernel_size=3, stride=1, padding=1),  # 1채널 -> 32채널\n",
    "            nn.ReLU(),  # 활성화 함수\n",
    "            nn.BatchNorm2d(32),  # 배치 정규화\n",
    "            nn.MaxPool2d(kernel_size=2, stride=2),  # 풀링\n",
    "            nn.Dropout(0.2),  # 드롭아웃\n",
    "\n",
    "            nn.Conv2d(32, 64, kernel_size=3, stride=1, padding=1),  # 32채널 -> 64채널\n",
    "            nn.ReLU(),\n",
    "            nn.BatchNorm2d(64),\n",
    "            nn.Conv2d(64, 64, kernel_size=1),  # NiN 구조\n",
    "            nn.ReLU(),\n",
    "            nn.BatchNorm2d(64),\n",
    "            nn.MaxPool2d(kernel_size=2, stride=2),  # 풀링\n",
    "            nn.Dropout(0.3),\n",
    "\n",
    "            nn.Conv2d(64, 128, kernel_size=3, stride=1, padding=1),  # 64채널 -> 128채널\n",
    "            nn.ReLU(),\n",
    "            nn.BatchNorm2d(128),\n",
    "            nn.Conv2d(128, 128, kernel_size=1),  # NiN 구조\n",
    "            nn.ReLU(),\n",
    "            nn.BatchNorm2d(128),\n",
    "            nn.MaxPool2d(kernel_size=2, stride=2),  # 풀링\n",
    "            nn.Dropout(0.4),\n",
    "        )\n",
    "\n",
    "        self.fc_layers = nn.Sequential(\n",
    "            nn.Flatten(),  # 평탄화\n",
    "            nn.Linear(128 * 3 * 3, 256),  # 완전연결층\n",
    "            nn.ReLU(),\n",
    "            nn.BatchNorm1d(256),\n",
    "            nn.Dropout(0.5),\n",
    "            nn.Linear(256, 10)  # 출력층 (10 클래스)\n",
    "        )\n",
    "\n",
    "    def forward(self, x):\n",
    "        x = self.conv_layers(x)  # 합성곱 계층\n",
    "        x = self.fc_layers(x)  # 완전연결 계층\n",
    "        return x\n",
    "\n",
    "# GPU 설정\n",
    "device = torch.device(\"cuda\" if torch.cuda.is_available() else \"cpu\")  # GPU 또는 CPU 선택\n",
    "print(f\"Using device: {device}\")  # 사용 중인 장치 출력\n",
    "\n",
    "# 모델, 손실함수, 옵티마이저 초기화\n",
    "model = CNN().to(device)  # 모델을 장치로 이동\n",
    "criterion = nn.CrossEntropyLoss()  # 손실 함수\n",
    "optimizer = optim.Adam(model.parameters(), lr=config.learning_rate, weight_decay=1e-5)  # 옵티마이저\n",
    "scheduler = optim.lr_scheduler.ReduceLROnPlateau(optimizer, 'max', patience=3, factor=0.5)  # 학습률 스케줄러\n",
    "\n",
    "print(summary(model, input_size=(config.batch_size, 1, 28, 28)))  # 모델 요약 출력\n",
    "\n",
    "# EarlyStopping 클래스 정의\n",
    "class EarlyStopping:\n",
    "    def __init__(self, patience=15, verbose=False, path='best_model.pth'):\n",
    "        self.patience = 15  # 최대 기다림 횟수\n",
    "        self.verbose = verbose  # 디버그 메시지 표시 여부\n",
    "        self.counter = 0  # 카운터\n",
    "        self.best_loss = None  # 최적 손실값\n",
    "        self.early_stop = False  # 조기 종료 여부\n",
    "        self.path = path  # 모델 저장 경로\n",
    "        self.best_model = None  # 최적 모델\n",
    "        self.max_accuracy = 94.0  # 조기 종료 정확도 임계값\n",
    "\n",
    "    def __call__(self, val_loss, model, val_accuracy):\n",
    "        if self.best_loss is None or val_loss < self.best_loss:  # 손실 감소 확인\n",
    "            self.best_loss = val_loss  # 최적 손실값 갱신\n",
    "            self.counter = 0  # 카운터 리셋\n",
    "            torch.save(model.state_dict(), self.path)  # 모델 저장\n",
    "            if self.verbose:\n",
    "                print(f\"Validation Loss Improved, Saving Model: {val_loss:.4f}\")\n",
    "        else:\n",
    "            self.counter += 1  # 카운터 증가\n",
    "            if self.verbose:\n",
    "                print(f\"EarlyStopping Counter: {self.counter}/{self.patience}\")\n",
    "            if self.counter >= self.patience:  # 조기 종료 조건 충족\n",
    "                self.early_stop = True\n",
    "\n",
    "        if val_accuracy >= self.max_accuracy:  # 정확도가 임계값 이상일 경우\n",
    "            self.early_stop = True\n",
    "            if self.verbose:\n",
    "                print(f\"Early stopping triggered due to val_accuracy >= {self.max_accuracy}%\")\n",
    "\n",
    "\n",
    "# EarlyStopping 초기화\n",
    "early_stopping = EarlyStopping(patience=15)\n",
    "\n",
    "# 학습 및 검증 루프\n",
    "def train_model(model, train_loader, validation_loader, criterion, optimizer, device, num_epochs, patience=5, model_path='best_model.pth'):\n",
    "    model.to(device)  # 모델 장치 이동\n",
    "    early_stopping = EarlyStopping(patience=patience, verbose=True, path=model_path)  # EarlyStopping 초기화\n",
    "\n",
    "    for epoch in range(num_epochs):  # 에포크 반복\n",
    "        model.train()  # 학습 모드\n",
    "        running_loss = 0.0  # 학습 손실 초기화\n",
    "        correct = 0  # 정답 카운터 초기화\n",
    "        total = 0  # 전체 카운터 초기화\n",
    "        for images, labels in train_loader:  # 배치 반복\n",
    "            images, labels = images.to(device), labels.to(device)  # 데이터 장치로 이동\n",
    "            optimizer.zero_grad()  # 그래디언트 초기화\n",
    "            outputs = model(images)  # 모델 출력\n",
    "            loss = criterion(outputs, labels)  # 손실 계산\n",
    "            loss.backward()  # 역전파\n",
    "            optimizer.step()  # 가중치 갱신\n",
    "\n",
    "            running_loss += loss.item()  # 손실 누적\n",
    "            _, predicted = torch.max(outputs, 1)  # 예측값 계산\n",
    "            total += labels.size(0)  # 전체 개수 증가\n",
    "            correct += (predicted == labels).sum().item()  # 정답 개수 증가\n",
    "\n",
    "        train_accuracy = 100 * correct / total  # 학습 정확도 계산\n",
    "        train_loss = running_loss / len(train_loader)  # 학습 손실 평균 계산\n",
    "\n",
    "        # 검증 단계\n",
    "        val_accuracy, val_loss = validate_model(model, validation_loader, criterion, device)  # 검증 실행\n",
    "        wandb.log({  # Wandb 로깅\n",
    "            \"epoch\": epoch + 1,\n",
    "            \"Train loss\": train_loss,\n",
    "            \"Train accuracy\": train_accuracy,\n",
    "            \"Validation loss\": val_loss,\n",
    "            \"Validation Accuracy\": val_accuracy\n",
    "        })\n",
    "\n",
    "        print(f\"Epoch [{epoch + 1}/{num_epochs}], Train Loss: {train_loss:.4f}, Train Acc: {train_accuracy:.2f}%, Validation Loss: {val_loss:.4f}, Validation Accuracy: {val_accuracy:.2f}%\")\n",
    "\n",
    "        # 조기 종료 체크\n",
    "        early_stopping(val_loss, model, val_accuracy)  # EarlyStopping 호출, val_accuracy 추가 전달\n",
    "        if early_stopping.early_stop:  # 조기 종료 조건 확인\n",
    "            print(\"Early stopping triggered\")\n",
    "            break\n",
    "\n",
    "    model.load_state_dict(torch.load(model_path))  # 최적 모델 로드\n",
    "    print(\"Loaded Best Model from\", model_path)\n",
    "\n",
    "\n",
    "# 검증 함수 정의\n",
    "def validate_model(model, validation_loader, criterion, device):\n",
    "    model.eval()  # 평가 모드\n",
    "    running_loss = 0.0  # 손실 초기화\n",
    "    correct = 0  # 정답 개수 초기화\n",
    "    total = 0  # 전체 개수 초기화\n",
    "    with torch.no_grad():  # 그래디언트 비활성화\n",
    "        for images, labels in validation_loader:  # 배치 반복\n",
    "            images, labels = images.to(device), labels.to(device)  # 데이터 장치로 이동\n",
    "            outputs = model(images)  # 모델 출력\n",
    "            loss = criterion(outputs, labels)  # 손실 계산\n",
    "            running_loss += loss.item()  # 손실 누적\n",
    "            _, predicted = torch.max(outputs, 1)  # 예측값 계산\n",
    "            total += labels.size(0)  # 전체 개수 증가\n",
    "            correct += (predicted == labels).sum().item()  # 정답 개수 증가\n",
    "\n",
    "    accuracy = 100 * correct / total  # 정확도 계산\n",
    "    avg_loss = running_loss / len(validation_loader)  # 평균 손실 계산\n",
    "    return accuracy, avg_loss  # 결과 반환\n",
    "\n"
   ]
  },
  {
   "cell_type": "code",
   "execution_count": 5,
   "id": "e1859163",
   "metadata": {},
   "outputs": [],
   "source": [
    "# 문제 3\n",
    "# 테스트 함수 정의\n",
    "def test_model(model, test_loader, device):\n",
    "    model.eval()  # 평가 모드\n",
    "    correct = 0  # 정답 개수 초기화\n",
    "    total = 0  # 전체 개수 초기화\n",
    "    with torch.no_grad():  # 그래디언트 비활성화\n",
    "        for images, labels in test_loader:  # 배치 반복\n",
    "            images, labels = images.to(device), labels.to(device)  # 데이터 장치로 이동\n",
    "            outputs = model(images)  # 모델 출력\n",
    "            _, predicted = torch.max(outputs, 1)  # 예측값 계산\n",
    "            total += labels.size(0)  # 전체 개수 증가\n",
    "            correct += (predicted == labels).sum().item()  # 정답 개수 증가\n",
    "\n",
    "    accuracy = 100 * correct / total  # 정확도 계산\n",
    "    print(f\"Test Accuracy: {accuracy:.4f}\")  # 결과 출력\n",
    "    wandb.log({\"Test Accuracy\": accuracy})  # Wandb 로깅"
   ]
  },
  {
   "cell_type": "code",
   "execution_count": 6,
   "id": "46082aa3",
   "metadata": {},
   "outputs": [],
   "source": [
    "# 문제 4\n",
    "# 테스트 데이터 예측 및 시각화 함수 정의\n",
    "def visualize_predictions(model, test_loader, device):\n",
    "    model.eval()  # 평가 모드로 설정\n",
    "    samples = []  # 시각화할 샘플 리스트\n",
    "    with torch.no_grad():  # 그래디언트 비활성화\n",
    "        for images, labels in test_loader:  # 테스트 데이터 반복\n",
    "            images, labels = images.to(device), labels.to(device)  # 데이터를 장치로 이동\n",
    "            outputs = model(images)  # 모델 출력\n",
    "            preds = outputs.argmax(1)  # 예측값 계산\n",
    "            for i in range(10):  # 처음 10개의 샘플 수집\n",
    "                samples.append((images[i], labels[i].item(), preds[i].item()))  # 이미지, 라벨, 예측값 저장\n",
    "                if len(samples) == 10:  # 10개가 모이면 중지\n",
    "                    break\n",
    "            if len(samples) == 10:  # 외부 루프 중지 조건\n",
    "                break\n",
    "\n",
    "    # 시각화\n",
    "    fig, axes = plt.subplots(1, 10, figsize=(15, 3))  # 1행 10열 플롯 생성\n",
    "    for i, (image, label, pred) in enumerate(samples):  # 샘플별 시각화\n",
    "        image = image.cpu().numpy().squeeze()  # 이미지 텐서를 NumPy 배열로 변환\n",
    "        axes[i].imshow(image, cmap=\"gray\")  # 회색조로 이미지 출력\n",
    "        axes[i].set_title(f\"L: {label}, P: {pred}\")  # 라벨과 예측값 설정\n",
    "        axes[i].axis(\"off\")  # 축 비활성화\n",
    "    plt.show()  # 시각화 출력\n",
    "\n",
    "    # 분석\n",
    "    for i, (image, label, pred) in enumerate(samples):  # 샘플별 분석\n",
    "        if label != pred:  # 예측값이 라벨과 다를 경우\n",
    "            print(f\"Incorrect Prediction: True Label = {label}, Predicted = {pred}\")  # 잘못된 예측 출력"
   ]
  },
  {
   "cell_type": "code",
   "execution_count": 7,
   "id": "8ffae661",
   "metadata": {},
   "outputs": [
    {
     "data": {
      "text/html": [
       "Finishing last run (ID:93fmxozz) before initializing another..."
      ],
      "text/plain": [
       "<IPython.core.display.HTML object>"
      ]
     },
     "metadata": {},
     "output_type": "display_data"
    },
    {
     "data": {
      "text/html": [
       " View run <strong style=\"color:#cdcd00\">devout-lion-29</strong> at: <a href='https://wandb.ai/alstjr7141-korea-university-of-technology-and-education/fashion-mnist-homework/runs/93fmxozz' target=\"_blank\">https://wandb.ai/alstjr7141-korea-university-of-technology-and-education/fashion-mnist-homework/runs/93fmxozz</a><br/> View project at: <a href='https://wandb.ai/alstjr7141-korea-university-of-technology-and-education/fashion-mnist-homework' target=\"_blank\">https://wandb.ai/alstjr7141-korea-university-of-technology-and-education/fashion-mnist-homework</a><br/>Synced 5 W&B file(s), 0 media file(s), 0 artifact file(s) and 0 other file(s)"
      ],
      "text/plain": [
       "<IPython.core.display.HTML object>"
      ]
     },
     "metadata": {},
     "output_type": "display_data"
    },
    {
     "data": {
      "text/html": [
       "Find logs at: <code>./wandb/run-20241122_201719-93fmxozz/logs</code>"
      ],
      "text/plain": [
       "<IPython.core.display.HTML object>"
      ]
     },
     "metadata": {},
     "output_type": "display_data"
    },
    {
     "data": {
      "text/html": [
       "Successfully finished last run (ID:93fmxozz). Initializing new run:<br/>"
      ],
      "text/plain": [
       "<IPython.core.display.HTML object>"
      ]
     },
     "metadata": {},
     "output_type": "display_data"
    },
    {
     "data": {
      "text/html": [
       "Tracking run with wandb version 0.18.7"
      ],
      "text/plain": [
       "<IPython.core.display.HTML object>"
      ]
     },
     "metadata": {},
     "output_type": "display_data"
    },
    {
     "data": {
      "text/html": [
       "Run data is saved locally in <code>/home/work/Deep/wandb/run-20241122_201726-40qwh535</code>"
      ],
      "text/plain": [
       "<IPython.core.display.HTML object>"
      ]
     },
     "metadata": {},
     "output_type": "display_data"
    },
    {
     "data": {
      "text/html": [
       "Syncing run <strong><a href='https://wandb.ai/alstjr7141-korea-university-of-technology-and-education/cnn_mnist_test_code/runs/40qwh535' target=\"_blank\">2024-11-22_20-17-26</a></strong> to <a href='https://wandb.ai/alstjr7141-korea-university-of-technology-and-education/cnn_mnist_test_code' target=\"_blank\">Weights & Biases</a> (<a href='https://wandb.me/developer-guide' target=\"_blank\">docs</a>)<br/>"
      ],
      "text/plain": [
       "<IPython.core.display.HTML object>"
      ]
     },
     "metadata": {},
     "output_type": "display_data"
    },
    {
     "data": {
      "text/html": [
       " View project at <a href='https://wandb.ai/alstjr7141-korea-university-of-technology-and-education/cnn_mnist_test_code' target=\"_blank\">https://wandb.ai/alstjr7141-korea-university-of-technology-and-education/cnn_mnist_test_code</a>"
      ],
      "text/plain": [
       "<IPython.core.display.HTML object>"
      ]
     },
     "metadata": {},
     "output_type": "display_data"
    },
    {
     "data": {
      "text/html": [
       " View run at <a href='https://wandb.ai/alstjr7141-korea-university-of-technology-and-education/cnn_mnist_test_code/runs/40qwh535' target=\"_blank\">https://wandb.ai/alstjr7141-korea-university-of-technology-and-education/cnn_mnist_test_code/runs/40qwh535</a>"
      ],
      "text/plain": [
       "<IPython.core.display.HTML object>"
      ]
     },
     "metadata": {},
     "output_type": "display_data"
    },
    {
     "name": "stdout",
     "output_type": "stream",
     "text": [
      "==========================================================================================\n",
      "Layer (type:depth-idx)                   Output Shape              Param #\n",
      "==========================================================================================\n",
      "CNN                                      [64, 10]                  --\n",
      "├─Sequential: 1-1                        [64, 128, 3, 3]           --\n",
      "│    └─Conv2d: 2-1                       [64, 32, 28, 28]          320\n",
      "│    └─ReLU: 2-2                         [64, 32, 28, 28]          --\n",
      "│    └─BatchNorm2d: 2-3                  [64, 32, 28, 28]          64\n",
      "│    └─MaxPool2d: 2-4                    [64, 32, 14, 14]          --\n",
      "│    └─Dropout: 2-5                      [64, 32, 14, 14]          --\n",
      "│    └─Conv2d: 2-6                       [64, 64, 14, 14]          18,496\n",
      "│    └─ReLU: 2-7                         [64, 64, 14, 14]          --\n",
      "│    └─BatchNorm2d: 2-8                  [64, 64, 14, 14]          128\n",
      "│    └─Conv2d: 2-9                       [64, 64, 14, 14]          4,160\n",
      "│    └─ReLU: 2-10                        [64, 64, 14, 14]          --\n",
      "│    └─BatchNorm2d: 2-11                 [64, 64, 14, 14]          128\n",
      "│    └─MaxPool2d: 2-12                   [64, 64, 7, 7]            --\n",
      "│    └─Dropout: 2-13                     [64, 64, 7, 7]            --\n",
      "│    └─Conv2d: 2-14                      [64, 128, 7, 7]           73,856\n",
      "│    └─ReLU: 2-15                        [64, 128, 7, 7]           --\n",
      "│    └─BatchNorm2d: 2-16                 [64, 128, 7, 7]           256\n",
      "│    └─Conv2d: 2-17                      [64, 128, 7, 7]           16,512\n",
      "│    └─ReLU: 2-18                        [64, 128, 7, 7]           --\n",
      "│    └─BatchNorm2d: 2-19                 [64, 128, 7, 7]           256\n",
      "│    └─MaxPool2d: 2-20                   [64, 128, 3, 3]           --\n",
      "│    └─Dropout: 2-21                     [64, 128, 3, 3]           --\n",
      "├─Sequential: 1-2                        [64, 10]                  --\n",
      "│    └─Flatten: 2-22                     [64, 1152]                --\n",
      "│    └─Linear: 2-23                      [64, 256]                 295,168\n",
      "│    └─ReLU: 2-24                        [64, 256]                 --\n",
      "│    └─BatchNorm1d: 2-25                 [64, 256]                 512\n",
      "│    └─Dropout: 2-26                     [64, 256]                 --\n",
      "│    └─Linear: 2-27                      [64, 10]                  2,570\n",
      "==========================================================================================\n",
      "Total params: 412,426\n",
      "Trainable params: 412,426\n",
      "Non-trainable params: 0\n",
      "Total mult-adds (M): 602.79\n",
      "==========================================================================================\n",
      "Input size (MB): 0.20\n",
      "Forward/backward pass size (MB): 64.49\n",
      "Params size (MB): 1.65\n",
      "Estimated Total Size (MB): 66.34\n",
      "==========================================================================================\n",
      "Epoch [1/100], Train Loss: 0.6567, Train Acc: 76.09%, Validation Loss: 0.4008, Validation Accuracy: 84.96%\n",
      "Validation Loss Improved, Saving Model: 0.4008\n",
      "Epoch [2/100], Train Loss: 0.4365, Train Acc: 84.01%, Validation Loss: 0.3211, Validation Accuracy: 88.42%\n",
      "Validation Loss Improved, Saving Model: 0.3211\n",
      "Epoch [3/100], Train Loss: 0.3785, Train Acc: 86.23%, Validation Loss: 0.2954, Validation Accuracy: 89.02%\n",
      "Validation Loss Improved, Saving Model: 0.2954\n",
      "Epoch [4/100], Train Loss: 0.3472, Train Acc: 87.35%, Validation Loss: 0.2695, Validation Accuracy: 89.88%\n",
      "Validation Loss Improved, Saving Model: 0.2695\n",
      "Epoch [5/100], Train Loss: 0.3293, Train Acc: 87.98%, Validation Loss: 0.2577, Validation Accuracy: 90.88%\n",
      "Validation Loss Improved, Saving Model: 0.2577\n",
      "Epoch [6/100], Train Loss: 0.3153, Train Acc: 88.53%, Validation Loss: 0.2425, Validation Accuracy: 91.18%\n",
      "Validation Loss Improved, Saving Model: 0.2425\n",
      "Epoch [7/100], Train Loss: 0.3005, Train Acc: 89.08%, Validation Loss: 0.2368, Validation Accuracy: 91.16%\n",
      "Validation Loss Improved, Saving Model: 0.2368\n",
      "Epoch [8/100], Train Loss: 0.2955, Train Acc: 89.15%, Validation Loss: 0.2322, Validation Accuracy: 91.40%\n",
      "Validation Loss Improved, Saving Model: 0.2322\n",
      "Epoch [9/100], Train Loss: 0.2868, Train Acc: 89.46%, Validation Loss: 0.2182, Validation Accuracy: 92.32%\n",
      "Validation Loss Improved, Saving Model: 0.2182\n",
      "Epoch [10/100], Train Loss: 0.2797, Train Acc: 89.84%, Validation Loss: 0.2176, Validation Accuracy: 92.18%\n",
      "Validation Loss Improved, Saving Model: 0.2176\n",
      "Epoch [11/100], Train Loss: 0.2758, Train Acc: 89.91%, Validation Loss: 0.2105, Validation Accuracy: 92.18%\n",
      "Validation Loss Improved, Saving Model: 0.2105\n",
      "Epoch [12/100], Train Loss: 0.2695, Train Acc: 90.13%, Validation Loss: 0.2152, Validation Accuracy: 92.10%\n",
      "EarlyStopping Counter: 1/15\n",
      "Epoch [13/100], Train Loss: 0.2625, Train Acc: 90.51%, Validation Loss: 0.2335, Validation Accuracy: 91.56%\n",
      "EarlyStopping Counter: 2/15\n",
      "Epoch [14/100], Train Loss: 0.2600, Train Acc: 90.45%, Validation Loss: 0.2177, Validation Accuracy: 92.26%\n",
      "EarlyStopping Counter: 3/15\n",
      "Epoch [15/100], Train Loss: 0.2574, Train Acc: 90.70%, Validation Loss: 0.2132, Validation Accuracy: 92.32%\n",
      "EarlyStopping Counter: 4/15\n",
      "Epoch [16/100], Train Loss: 0.2528, Train Acc: 90.73%, Validation Loss: 0.2035, Validation Accuracy: 92.84%\n",
      "Validation Loss Improved, Saving Model: 0.2035\n",
      "Epoch [17/100], Train Loss: 0.2516, Train Acc: 90.75%, Validation Loss: 0.2012, Validation Accuracy: 92.74%\n",
      "Validation Loss Improved, Saving Model: 0.2012\n",
      "Epoch [18/100], Train Loss: 0.2480, Train Acc: 90.83%, Validation Loss: 0.2082, Validation Accuracy: 92.58%\n",
      "EarlyStopping Counter: 1/15\n",
      "Epoch [19/100], Train Loss: 0.2463, Train Acc: 90.98%, Validation Loss: 0.2068, Validation Accuracy: 92.26%\n",
      "EarlyStopping Counter: 2/15\n",
      "Epoch [20/100], Train Loss: 0.2422, Train Acc: 91.24%, Validation Loss: 0.2035, Validation Accuracy: 92.60%\n",
      "EarlyStopping Counter: 3/15\n",
      "Epoch [21/100], Train Loss: 0.2373, Train Acc: 91.31%, Validation Loss: 0.1871, Validation Accuracy: 93.20%\n",
      "Validation Loss Improved, Saving Model: 0.1871\n",
      "Epoch [22/100], Train Loss: 0.2358, Train Acc: 91.32%, Validation Loss: 0.2000, Validation Accuracy: 92.78%\n",
      "EarlyStopping Counter: 1/15\n",
      "Epoch [23/100], Train Loss: 0.2324, Train Acc: 91.52%, Validation Loss: 0.1934, Validation Accuracy: 93.14%\n",
      "EarlyStopping Counter: 2/15\n",
      "Epoch [24/100], Train Loss: 0.2331, Train Acc: 91.46%, Validation Loss: 0.1953, Validation Accuracy: 93.58%\n",
      "EarlyStopping Counter: 3/15\n",
      "Epoch [25/100], Train Loss: 0.2289, Train Acc: 91.65%, Validation Loss: 0.1988, Validation Accuracy: 92.66%\n",
      "EarlyStopping Counter: 4/15\n",
      "Epoch [26/100], Train Loss: 0.2290, Train Acc: 91.68%, Validation Loss: 0.1935, Validation Accuracy: 93.26%\n",
      "EarlyStopping Counter: 5/15\n",
      "Epoch [27/100], Train Loss: 0.2251, Train Acc: 91.89%, Validation Loss: 0.1854, Validation Accuracy: 93.32%\n",
      "Validation Loss Improved, Saving Model: 0.1854\n",
      "Epoch [28/100], Train Loss: 0.2259, Train Acc: 91.81%, Validation Loss: 0.1911, Validation Accuracy: 92.82%\n",
      "EarlyStopping Counter: 1/15\n",
      "Epoch [29/100], Train Loss: 0.2228, Train Acc: 91.84%, Validation Loss: 0.1866, Validation Accuracy: 93.18%\n",
      "EarlyStopping Counter: 2/15\n",
      "Epoch [30/100], Train Loss: 0.2210, Train Acc: 91.83%, Validation Loss: 0.1999, Validation Accuracy: 93.14%\n",
      "EarlyStopping Counter: 3/15\n",
      "Epoch [31/100], Train Loss: 0.2228, Train Acc: 92.04%, Validation Loss: 0.1886, Validation Accuracy: 93.58%\n",
      "EarlyStopping Counter: 4/15\n",
      "Epoch [32/100], Train Loss: 0.2158, Train Acc: 92.05%, Validation Loss: 0.1795, Validation Accuracy: 93.76%\n",
      "Validation Loss Improved, Saving Model: 0.1795\n",
      "Epoch [33/100], Train Loss: 0.2188, Train Acc: 91.90%, Validation Loss: 0.1881, Validation Accuracy: 93.10%\n",
      "EarlyStopping Counter: 1/15\n",
      "Epoch [34/100], Train Loss: 0.2148, Train Acc: 92.15%, Validation Loss: 0.1858, Validation Accuracy: 93.50%\n",
      "EarlyStopping Counter: 2/15\n",
      "Epoch [35/100], Train Loss: 0.2145, Train Acc: 92.17%, Validation Loss: 0.1853, Validation Accuracy: 93.36%\n",
      "EarlyStopping Counter: 3/15\n",
      "Epoch [36/100], Train Loss: 0.2110, Train Acc: 92.25%, Validation Loss: 0.1837, Validation Accuracy: 93.52%\n",
      "EarlyStopping Counter: 4/15\n",
      "Epoch [37/100], Train Loss: 0.2091, Train Acc: 92.34%, Validation Loss: 0.1809, Validation Accuracy: 93.46%\n",
      "EarlyStopping Counter: 5/15\n"
     ]
    },
    {
     "name": "stdout",
     "output_type": "stream",
     "text": [
      "Epoch [38/100], Train Loss: 0.2080, Train Acc: 92.26%, Validation Loss: 0.1814, Validation Accuracy: 93.46%\n",
      "EarlyStopping Counter: 6/15\n",
      "Epoch [39/100], Train Loss: 0.2101, Train Acc: 92.29%, Validation Loss: 0.1751, Validation Accuracy: 93.68%\n",
      "Validation Loss Improved, Saving Model: 0.1751\n",
      "Epoch [40/100], Train Loss: 0.2097, Train Acc: 92.25%, Validation Loss: 0.1883, Validation Accuracy: 93.40%\n",
      "EarlyStopping Counter: 1/15\n",
      "Epoch [41/100], Train Loss: 0.2089, Train Acc: 92.39%, Validation Loss: 0.1859, Validation Accuracy: 93.52%\n",
      "EarlyStopping Counter: 2/15\n",
      "Epoch [42/100], Train Loss: 0.2074, Train Acc: 92.38%, Validation Loss: 0.1858, Validation Accuracy: 93.26%\n",
      "EarlyStopping Counter: 3/15\n",
      "Epoch [43/100], Train Loss: 0.2042, Train Acc: 92.47%, Validation Loss: 0.1951, Validation Accuracy: 93.32%\n",
      "EarlyStopping Counter: 4/15\n",
      "Epoch [44/100], Train Loss: 0.2052, Train Acc: 92.45%, Validation Loss: 0.1779, Validation Accuracy: 93.62%\n",
      "EarlyStopping Counter: 5/15\n",
      "Epoch [45/100], Train Loss: 0.1998, Train Acc: 92.68%, Validation Loss: 0.1787, Validation Accuracy: 93.56%\n",
      "EarlyStopping Counter: 6/15\n",
      "Epoch [46/100], Train Loss: 0.2002, Train Acc: 92.58%, Validation Loss: 0.1776, Validation Accuracy: 93.50%\n",
      "EarlyStopping Counter: 7/15\n",
      "Epoch [47/100], Train Loss: 0.1984, Train Acc: 92.74%, Validation Loss: 0.1796, Validation Accuracy: 93.72%\n",
      "EarlyStopping Counter: 8/15\n",
      "Epoch [48/100], Train Loss: 0.1984, Train Acc: 92.65%, Validation Loss: 0.1717, Validation Accuracy: 93.94%\n",
      "Validation Loss Improved, Saving Model: 0.1717\n",
      "Epoch [49/100], Train Loss: 0.1970, Train Acc: 92.82%, Validation Loss: 0.1819, Validation Accuracy: 93.64%\n",
      "EarlyStopping Counter: 1/15\n",
      "Epoch [50/100], Train Loss: 0.1969, Train Acc: 92.74%, Validation Loss: 0.1863, Validation Accuracy: 93.34%\n",
      "EarlyStopping Counter: 2/15\n",
      "Epoch [51/100], Train Loss: 0.1975, Train Acc: 92.78%, Validation Loss: 0.1809, Validation Accuracy: 93.76%\n",
      "EarlyStopping Counter: 3/15\n",
      "Epoch [52/100], Train Loss: 0.1952, Train Acc: 92.77%, Validation Loss: 0.1875, Validation Accuracy: 93.38%\n",
      "EarlyStopping Counter: 4/15\n",
      "Epoch [53/100], Train Loss: 0.1944, Train Acc: 92.91%, Validation Loss: 0.2123, Validation Accuracy: 92.60%\n",
      "EarlyStopping Counter: 5/15\n",
      "Epoch [54/100], Train Loss: 0.1947, Train Acc: 92.89%, Validation Loss: 0.1771, Validation Accuracy: 93.60%\n",
      "EarlyStopping Counter: 6/15\n",
      "Epoch [55/100], Train Loss: 0.1951, Train Acc: 92.74%, Validation Loss: 0.1746, Validation Accuracy: 93.72%\n",
      "EarlyStopping Counter: 7/15\n",
      "Epoch [56/100], Train Loss: 0.1908, Train Acc: 92.99%, Validation Loss: 0.1984, Validation Accuracy: 92.78%\n",
      "EarlyStopping Counter: 8/15\n",
      "Epoch [57/100], Train Loss: 0.1886, Train Acc: 93.15%, Validation Loss: 0.1943, Validation Accuracy: 93.26%\n",
      "EarlyStopping Counter: 9/15\n",
      "Epoch [58/100], Train Loss: 0.1888, Train Acc: 93.11%, Validation Loss: 0.1661, Validation Accuracy: 94.32%\n",
      "Validation Loss Improved, Saving Model: 0.1661\n",
      "Early stopping triggered due to val_accuracy >= 94.0%\n",
      "Early stopping triggered\n",
      "Loaded Best Model from best_model.pth\n",
      "Test Accuracy: 93.6400\n"
     ]
    },
    {
     "data": {
      "image/png": "[encoded data removed]",
      "text/plain": [
       "<Figure size 1500x300 with 10 Axes>"
      ]
     },
     "metadata": {},
     "output_type": "display_data"
    },
    {
     "data": {
      "text/html": [
       "\n",
       "    <style>\n",
       "        .wandb-row {\n",
       "            display: flex;\n",
       "            flex-direction: row;\n",
       "            flex-wrap: wrap;\n",
       "            justify-content: flex-start;\n",
       "            width: 100%;\n",
       "        }\n",
       "        .wandb-col {\n",
       "            display: flex;\n",
       "            flex-direction: column;\n",
       "            flex-basis: 100%;\n",
       "            flex: 1;\n",
       "            padding: 10px;\n",
       "        }\n",
       "    </style>\n",
       "<div class=\"wandb-row\"><div class=\"wandb-col\"><h3>Run history:</h3><br/><table class=\"wandb\"><tr><td>Test Accuracy</td><td>▁</td></tr><tr><td>Train accuracy</td><td>▁▄▅▆▆▆▇▇▇▇▇▇▇▇▇▇▇▇▇▇▇███████████████████</td></tr><tr><td>Train loss</td><td>█▄▃▃▃▂▂▂▂▂▂▂▂▂▂▂▂▂▂▂▂▁▁▁▁▁▁▁▁▁▁▁▁▁▁▁▁▁▁▁</td></tr><tr><td>Validation Accuracy</td><td>▁▄▄▅▆▇▆▆▆▆▇▇▇▇▆▇▇▇▇▇▇▇▇█▇▇▇▇▇▇██▇▇█▇▇█▇█</td></tr><tr><td>Validation loss</td><td>█▆▅▄▄▃▃▃▃▂▃▂▂▂▂▂▂▂▂▂▂▂▂▂▂▁▁▁▂▂▁▁▁▁▂▂▂▁▁▁</td></tr><tr><td>epoch</td><td>▁▁▁▁▂▂▂▂▂▃▃▃▃▃▃▃▄▄▄▄▅▅▅▅▅▅▅▆▆▆▇▇▇▇▇▇▇███</td></tr></table><br/></div><div class=\"wandb-col\"><h3>Run summary:</h3><br/><table class=\"wandb\"><tr><td>Test Accuracy</td><td>93.64</td></tr><tr><td>Train accuracy</td><td>93.11455</td></tr><tr><td>Train loss</td><td>0.18878</td></tr><tr><td>Validation Accuracy</td><td>94.32</td></tr><tr><td>Validation loss</td><td>0.16609</td></tr><tr><td>epoch</td><td>58</td></tr></table><br/></div></div>"
      ],
      "text/plain": [
       "<IPython.core.display.HTML object>"
      ]
     },
     "metadata": {},
     "output_type": "display_data"
    },
    {
     "data": {
      "text/html": [
       " View run <strong style=\"color:#cdcd00\">2024-11-22_20-17-26</strong> at: <a href='https://wandb.ai/alstjr7141-korea-university-of-technology-and-education/cnn_mnist_test_code/runs/40qwh535' target=\"_blank\">https://wandb.ai/alstjr7141-korea-university-of-technology-and-education/cnn_mnist_test_code/runs/40qwh535</a><br/> View project at: <a href='https://wandb.ai/alstjr7141-korea-university-of-technology-and-education/cnn_mnist_test_code' target=\"_blank\">https://wandb.ai/alstjr7141-korea-university-of-technology-and-education/cnn_mnist_test_code</a><br/>Synced 5 W&B file(s), 0 media file(s), 0 artifact file(s) and 0 other file(s)"
      ],
      "text/plain": [
       "<IPython.core.display.HTML object>"
      ]
     },
     "metadata": {},
     "output_type": "display_data"
    },
    {
     "data": {
      "text/html": [
       "Find logs at: <code>./wandb/run-20241122_201726-40qwh535/logs</code>"
      ],
      "text/plain": [
       "<IPython.core.display.HTML object>"
      ]
     },
     "metadata": {},
     "output_type": "display_data"
    }
   ],
   "source": [
    "# 모델 학습 및 평가 실행\n",
    "if __name__ == \"__main__\":\n",
    "    run_time_str = datetime.now().astimezone().strftime('%Y-%m-%d_%H-%M-%S')  # 현재 시간 문자열 생성\n",
    "    project_name = \"cnn_mnist_test_code\"  # 프로젝트 이름 설정\n",
    "    wandb.init(\n",
    "        mode=\"online\",  # Wandb 온라인 모드\n",
    "        project=project_name,  # 프로젝트 이름\n",
    "        notes=\"mnist experiment with cnn\",  # 프로젝트 노트\n",
    "        tags=[\"cnn\", \"mnist\"],  # 태그 추가\n",
    "        name=run_time_str,  # 실행 시간 이름\n",
    "        config=config  # 설정 전달\n",
    "    )\n",
    "    device = torch.device(\"cuda\" if torch.cuda.is_available() else \"cpu\")  # 장치 설정\n",
    "\n",
    "    # 모델 초기화\n",
    "    model = CNN()\n",
    "\n",
    "    # 모델 요약 출력\n",
    "    model.to('cpu')  # CPU에서 모델 요약 확인\n",
    "    print(summary(model, input_size=(64, 1, 28, 28)))  # 모델 구조 출력\n",
    "\n",
    "    # 모델 장치 이동\n",
    "    model.to(device)\n",
    "\n",
    "    # 손실 함수 및 옵티마이저 정의\n",
    "    criterion = nn.CrossEntropyLoss()  # 손실 함수 설정\n",
    "    optimizer = optim.Adam(model.parameters(), lr=config.learning_rate)  # 옵티마이저 설정\n",
    "\n",
    "    # 학습 및 평가 실행\n",
    "    train_model(model, train_loader, validation_loader, criterion, optimizer, device, num_epochs=config.epochs)  # 학습\n",
    "    test_model(model, test_loader, device)  # 테스트\n",
    "\n",
    "    # 테스트 데이터 예측 및 시각화\n",
    "    visualize_predictions(model, test_loader, device)  # 예측 시각화\n",
    "\n",
    "    # Wandb 종료\n",
    "    wandb.finish()"
   ]
  },
  {
   "cell_type": "markdown",
   "id": "5c58ff4c",
   "metadata": {},
   "source": [
    "코딩을 통해 얻은 기술적 사항\n",
    "---------------------------------------\n",
    "다양한 하이퍼파라미터 튜닝의 중요성\n",
    "\n",
    "학습률, 배치 크기, 드롭아웃 비율 등의 하이퍼파라미터 조정이 모델 성능에 미치는 영향을 체감했습니다. 특히, 작은 변화가 학습 시간과 정확도에 큰 영향을 미쳤습니다.\n",
    "\n",
    "모델 복잡도와 성능의 상관관계\n",
    "컨볼루션 층이나 채널 수를 무작정 늘리기보다 *적절한 모델 설계*가 중요하다는 점을 배웠습니다. 지나치게 복잡한 구조는 과적합을 유발하거나 학습 속도를 느리게 만들 수 있다는 점을 확인했습니다.\n",
    "\n",
    "Early Stopping으로 불필요한 학습 시간을 줄이고 원하는 학습량을 얻고, Learning Rate Scheduler로 학습 후반부의 안정적인 성능 향상을 도모할 수 있었습니다.\n",
    "\n",
    "코딩을 통해 얻은 고찰\n",
    "----------------------------------\n",
    "단순히 모델을 복잡하게 하는 것이 성능을 보장하지 않는다.\n",
    "다양한 기능(데이터 증강, Batch Normalization, Dropout 등)을 추가했지만, 무조건적인 추가가 항상 긍정적인 결과로 이어지지 않는다는 점을 알게 되었습니다. 모델 성능은 데이터셋, 모델 구조, 하이퍼파라미터 간의 조화를 통해 결정됩니다.\n",
    "\n",
    "모델 성능 개선 과정의 반복성\n",
    "실험은 단 한 번의 시도로 끝나는 것이 아니라, 계속해서 시도하고 실패하며 얻는 경험의 연속임을 깨달았습니다. 특히, 실패한 시도를 기록하고 학습한 점을 다음 실험에 적용하는 것이 중요했습니다.\n",
    "\n",
    "코드 디버깅 및 분석의 중요성\n",
    "성능이 기대에 미치지 못할 때, 원인을 파악하기 위해 기록된 로그와 모델의 동작을 분석하는 과정이 필요했습니다. 이를 통해 성능 저하의 원인을 발견하고 개선할 수 있었습니다.\n",
    "\n",
    "다다익선이 아닌 최적의 균형점 찾기\n",
    "하이퍼파라미터, 모델 복잡도, 데이터 증강 등을 너무 많이 시도하면 오히려 학습 과정이 불안정해지거나 과적합이 발생했습니다. 적절한 균형점을 찾는 과정이 가장 어렵지만 중요하다는 점을 깨달았습니다.\n"
   ]
  },
  {
   "cell_type": "markdown",
   "id": "86725d11",
   "metadata": {},
   "source": [
    "숙제 후기\n",
    "\n",
    "이번 과제는 역대급으로 어려웠습니다. 모델의 성능 향상을 위해 다양한 시도를 했지만, \n",
    "왜 성능이 향상되거나 감소하는지 명확하게 이해하기 어려웠습니다. \n",
    "컨볼루션 층을 추가하면 학습 시간이 길어지고 성능이 오히려 감소하는 경우도 있었고, \n",
    "최적의 성능을 얻기 위해 하이퍼파라미터를 조정하는 과정이 매우 힘들었습니다.\n",
    "\n",
    "그래도 최대한 다양한 기능을 추가하고, 하이퍼파라미터를 조정해가며 \n",
    "검증 정확도와 시험 정확도를 겨우 높일 수 있었습니다. 우선 코드를 전반적으로\n",
    "확실하게 내 코드로 만들기 위해서 모든 줄을 이해하려고 노력하였습니다. 그러다 보니 모든 줄에\n",
    "주석이 생기게 되었습니다. 정말 이 과제를 해결하는데 정말 오랜 시간이 들었지만 Validation과 test의 값이\n",
    "94% 93%를 넘는 결과물을 보였을 때의 쾌감을 잊지 못할 거 같습니다. 또한\n",
    "이번 과제를 통해 모델 성능 향상에는 단순히 기능 추가만으로는 \n",
    "해결되지 않는 많은 고민이 필요하다는 점을 배우게 되었습니다. 마지막으로 학습하는데 시간이 너무 오래걸려 힘들었습니다..."
   ]
  }
 ],
 "metadata": {
  "kernelspec": {
   "display_name": "PyTorch 2.3 (NGC 24.03/Python 3.10) on Backend.AI",
   "language": "python",
   "name": "python3"
  },
  "language_info": {
   "codemirror_mode": {
    "name": "ipython",
    "version": 3
   },
   "file_extension": ".py",
   "mimetype": "text/x-python",
   "name": "python",
   "nbconvert_exporter": "python",
   "pygments_lexer": "ipython3",
   "version": "3.10.12"
  }
 },
 "nbformat": 4,
 "nbformat_minor": 5
}
